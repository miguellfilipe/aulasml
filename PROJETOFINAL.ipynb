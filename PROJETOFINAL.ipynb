{
 "cells": [
  {
   "cell_type": "markdown",
   "id": "11802331-c85b-479a-845d-fad5c1d2e3ec",
   "metadata": {},
   "source": [
    "# **Trabalho Final - AAS**\n",
    "## Predição de Índice de Experimentação de Substâncias\n",
    "\n",
    "### 1. Definição do Problema\n",
    "Este projeto pretende desenvolver um modelo **supervisionado** para prever se um jovem (ou grupo) apresenta índice de experimentação de substâncias (`Drug_Experimentation`) com base em variáveis socioeconômicas, demográficas e comportamentais. A ideia central é identificar fatores determinantes e compreender o fenômeno, auxiliando assim na formulação de **políticas públicas** ou intervenções de saúde.\n",
    "\n",
    "O dataset (por exemplo, `Youth_Smoking_Drug.csv`) contém colunas relacionadas a idade, gênero, status socioeconômico, possíveis escores de comportamento, etc. O alvo é uma variável binária indicando experimentação de drogas (`0` ou `1`).\n",
    "\n",
    "\n"
   ]
  },
  {
   "cell_type": "markdown",
   "id": "0afe8d40-c662-4ad1-ba7c-911a0996d8a8",
   "metadata": {},
   "source": [
    "### 2. Importação de Bibliotecas\n",
    "\n"
   ]
  },
  {
   "cell_type": "code",
   "execution_count": 251,
   "id": "30655df9-ab8f-4944-886e-063e3ff9b53d",
   "metadata": {},
   "outputs": [],
   "source": [
    "#!pip install tensorflow\n",
    "import numpy as np\n",
    "import pandas as pd\n",
    "import matplotlib.pyplot as plt\n",
    "import seaborn as sns\n",
    "sns.set()\n",
    "from sklearn.model_selection import train_test_split, cross_val_score, GridSearchCV, RandomizedSearchCV\n",
    "from sklearn.preprocessing import LabelEncoder, StandardScaler\n",
    "from sklearn.metrics import mean_squared_error, r2_score\n",
    "from sklearn.linear_model import LinearRegression\n",
    "from sklearn.tree import DecisionTreeRegressor\n",
    "from sklearn.ensemble import RandomForestRegressor\n",
    "from sklearn.neighbors import KNeighborsRegressor\n",
    "from sklearn.svm import SVR\n",
    "import tensorflow as tf\n",
    "from tensorflow.keras.models import Sequential\n",
    "from tensorflow.keras.layers import Dense, Dropout\n",
    "import random\n",
    "np.random.seed(42)\n",
    "random.seed(42)\n",
    "tf.random.set_seed(42)\n",
    "plt.rcParams['figure.figsize'] = (10,6)\n",
    "import warnings\n",
    "warnings.filterwarnings('ignore')"
   ]
  },
  {
   "cell_type": "markdown",
   "id": "a6d49f57-70cf-42db-b9d1-e67aa842ae1e",
   "metadata": {},
   "source": [
    "### 3. Carregamento e Descrição do Dataset\n",
    "\n",
    "Aqui, carregamos o arquivo CSV `Youth_Smoking_Drug.csv` (exemplo). Ajuste conforme o seu dataset real.\n"
   ]
  },
  {
   "cell_type": "code",
   "execution_count": 254,
   "id": "a3ad9be1-1ee1-46e8-8d82-bd4f4be0543c",
   "metadata": {},
   "outputs": [
    {
     "data": {
      "text/html": [
       "<div>\n",
       "<style scoped>\n",
       "    .dataframe tbody tr th:only-of-type {\n",
       "        vertical-align: middle;\n",
       "    }\n",
       "\n",
       "    .dataframe tbody tr th {\n",
       "        vertical-align: top;\n",
       "    }\n",
       "\n",
       "    .dataframe thead th {\n",
       "        text-align: right;\n",
       "    }\n",
       "</style>\n",
       "<table border=\"1\" class=\"dataframe\">\n",
       "  <thead>\n",
       "    <tr style=\"text-align: right;\">\n",
       "      <th></th>\n",
       "      <th>Year</th>\n",
       "      <th>Age_Group</th>\n",
       "      <th>Gender</th>\n",
       "      <th>Smoking_Prevalence</th>\n",
       "      <th>Drug_Experimentation</th>\n",
       "      <th>Socioeconomic_Status</th>\n",
       "      <th>Peer_Influence</th>\n",
       "      <th>School_Programs</th>\n",
       "      <th>Family_Background</th>\n",
       "      <th>Mental_Health</th>\n",
       "      <th>Access_to_Counseling</th>\n",
       "      <th>Parental_Supervision</th>\n",
       "      <th>Substance_Education</th>\n",
       "      <th>Community_Support</th>\n",
       "      <th>Media_Influence</th>\n",
       "    </tr>\n",
       "  </thead>\n",
       "  <tbody>\n",
       "    <tr>\n",
       "      <th>0</th>\n",
       "      <td>2024</td>\n",
       "      <td>15-19</td>\n",
       "      <td>Both</td>\n",
       "      <td>18.85</td>\n",
       "      <td>32.40</td>\n",
       "      <td>High</td>\n",
       "      <td>5</td>\n",
       "      <td>Yes</td>\n",
       "      <td>1</td>\n",
       "      <td>5</td>\n",
       "      <td>No</td>\n",
       "      <td>4</td>\n",
       "      <td>No</td>\n",
       "      <td>3</td>\n",
       "      <td>1</td>\n",
       "    </tr>\n",
       "    <tr>\n",
       "      <th>1</th>\n",
       "      <td>2024</td>\n",
       "      <td>10-14</td>\n",
       "      <td>Female</td>\n",
       "      <td>34.88</td>\n",
       "      <td>41.57</td>\n",
       "      <td>High</td>\n",
       "      <td>6</td>\n",
       "      <td>Yes</td>\n",
       "      <td>10</td>\n",
       "      <td>5</td>\n",
       "      <td>No</td>\n",
       "      <td>9</td>\n",
       "      <td>Yes</td>\n",
       "      <td>9</td>\n",
       "      <td>3</td>\n",
       "    </tr>\n",
       "    <tr>\n",
       "      <th>2</th>\n",
       "      <td>2024</td>\n",
       "      <td>40-49</td>\n",
       "      <td>Both</td>\n",
       "      <td>33.75</td>\n",
       "      <td>42.90</td>\n",
       "      <td>Middle</td>\n",
       "      <td>10</td>\n",
       "      <td>No</td>\n",
       "      <td>9</td>\n",
       "      <td>7</td>\n",
       "      <td>Yes</td>\n",
       "      <td>2</td>\n",
       "      <td>No</td>\n",
       "      <td>10</td>\n",
       "      <td>9</td>\n",
       "    </tr>\n",
       "    <tr>\n",
       "      <th>3</th>\n",
       "      <td>2024</td>\n",
       "      <td>25-29</td>\n",
       "      <td>Male</td>\n",
       "      <td>37.71</td>\n",
       "      <td>19.46</td>\n",
       "      <td>Low</td>\n",
       "      <td>5</td>\n",
       "      <td>Yes</td>\n",
       "      <td>2</td>\n",
       "      <td>4</td>\n",
       "      <td>Yes</td>\n",
       "      <td>1</td>\n",
       "      <td>No</td>\n",
       "      <td>10</td>\n",
       "      <td>8</td>\n",
       "    </tr>\n",
       "    <tr>\n",
       "      <th>4</th>\n",
       "      <td>2024</td>\n",
       "      <td>15-19</td>\n",
       "      <td>Female</td>\n",
       "      <td>24.61</td>\n",
       "      <td>39.62</td>\n",
       "      <td>Middle</td>\n",
       "      <td>10</td>\n",
       "      <td>No</td>\n",
       "      <td>8</td>\n",
       "      <td>4</td>\n",
       "      <td>Yes</td>\n",
       "      <td>8</td>\n",
       "      <td>No</td>\n",
       "      <td>6</td>\n",
       "      <td>8</td>\n",
       "    </tr>\n",
       "  </tbody>\n",
       "</table>\n",
       "</div>"
      ],
      "text/plain": [
       "   Year Age_Group  Gender  Smoking_Prevalence  Drug_Experimentation  \\\n",
       "0  2024     15-19    Both               18.85                 32.40   \n",
       "1  2024     10-14  Female               34.88                 41.57   \n",
       "2  2024     40-49    Both               33.75                 42.90   \n",
       "3  2024     25-29    Male               37.71                 19.46   \n",
       "4  2024     15-19  Female               24.61                 39.62   \n",
       "\n",
       "  Socioeconomic_Status  Peer_Influence School_Programs  Family_Background  \\\n",
       "0                 High               5             Yes                  1   \n",
       "1                 High               6             Yes                 10   \n",
       "2               Middle              10              No                  9   \n",
       "3                  Low               5             Yes                  2   \n",
       "4               Middle              10              No                  8   \n",
       "\n",
       "   Mental_Health Access_to_Counseling  Parental_Supervision  \\\n",
       "0              5                   No                     4   \n",
       "1              5                   No                     9   \n",
       "2              7                  Yes                     2   \n",
       "3              4                  Yes                     1   \n",
       "4              4                  Yes                     8   \n",
       "\n",
       "  Substance_Education  Community_Support  Media_Influence  \n",
       "0                  No                  3                1  \n",
       "1                 Yes                  9                3  \n",
       "2                  No                 10                9  \n",
       "3                  No                 10                8  \n",
       "4                  No                  6                8  "
      ]
     },
     "execution_count": 254,
     "metadata": {},
     "output_type": "execute_result"
    }
   ],
   "source": [
    "df = pd.read_csv(\"dataset.csv\")  \n",
    "df.head()"
   ]
  },
  {
   "cell_type": "markdown",
   "id": "79dc15ff-b35f-41de-b3f3-86b2ccd3b5d8",
   "metadata": {},
   "source": [
    "#### Info e Estatísticas Descritivas\n"
   ]
  },
  {
   "cell_type": "markdown",
   "id": "ad01bb8d-e68a-49c5-ac35-13f49d0f7b0e",
   "metadata": {},
   "source": [
    "\n",
    "\n",
    "#### Mostrar o tamanho do dataset"
   ]
  },
  {
   "cell_type": "code",
   "execution_count": 258,
   "id": "826f5d03-86a0-4aa9-b913-a67a6c8ce135",
   "metadata": {},
   "outputs": [
    {
     "name": "stdout",
     "output_type": "stream",
     "text": [
      "Número de linhas: 10000\n",
      "Número de colunas: 15\n"
     ]
    }
   ],
   "source": [
    "linhas, colunas = df.shape\n",
    "print(\"Número de linhas:\", linhas)\n",
    "print(\"Número de colunas:\", colunas)"
   ]
  },
  {
   "cell_type": "code",
   "execution_count": 260,
   "id": "8de3cfe5-d263-4c12-8a94-04f84f630fdc",
   "metadata": {},
   "outputs": [
    {
     "data": {
      "text/html": [
       "<div>\n",
       "<style scoped>\n",
       "    .dataframe tbody tr th:only-of-type {\n",
       "        vertical-align: middle;\n",
       "    }\n",
       "\n",
       "    .dataframe tbody tr th {\n",
       "        vertical-align: top;\n",
       "    }\n",
       "\n",
       "    .dataframe thead th {\n",
       "        text-align: right;\n",
       "    }\n",
       "</style>\n",
       "<table border=\"1\" class=\"dataframe\">\n",
       "  <thead>\n",
       "    <tr style=\"text-align: right;\">\n",
       "      <th></th>\n",
       "      <th>Year</th>\n",
       "      <th>Smoking_Prevalence</th>\n",
       "      <th>Drug_Experimentation</th>\n",
       "      <th>Peer_Influence</th>\n",
       "      <th>Family_Background</th>\n",
       "      <th>Mental_Health</th>\n",
       "      <th>Parental_Supervision</th>\n",
       "      <th>Community_Support</th>\n",
       "      <th>Media_Influence</th>\n",
       "    </tr>\n",
       "  </thead>\n",
       "  <tbody>\n",
       "    <tr>\n",
       "      <th>count</th>\n",
       "      <td>10000.000000</td>\n",
       "      <td>10000.000000</td>\n",
       "      <td>10000.000000</td>\n",
       "      <td>10000.000000</td>\n",
       "      <td>10000.000000</td>\n",
       "      <td>10000.000000</td>\n",
       "      <td>10000.000000</td>\n",
       "      <td>10000.000000</td>\n",
       "      <td>10000.000000</td>\n",
       "    </tr>\n",
       "    <tr>\n",
       "      <th>mean</th>\n",
       "      <td>2022.000500</td>\n",
       "      <td>27.439257</td>\n",
       "      <td>40.150182</td>\n",
       "      <td>5.440100</td>\n",
       "      <td>5.513300</td>\n",
       "      <td>5.469800</td>\n",
       "      <td>5.528000</td>\n",
       "      <td>5.544600</td>\n",
       "      <td>5.506200</td>\n",
       "    </tr>\n",
       "    <tr>\n",
       "      <th>std</th>\n",
       "      <td>1.425027</td>\n",
       "      <td>12.975528</td>\n",
       "      <td>17.515917</td>\n",
       "      <td>2.863151</td>\n",
       "      <td>2.865038</td>\n",
       "      <td>2.879326</td>\n",
       "      <td>2.891514</td>\n",
       "      <td>2.870302</td>\n",
       "      <td>2.872836</td>\n",
       "    </tr>\n",
       "    <tr>\n",
       "      <th>min</th>\n",
       "      <td>2020.000000</td>\n",
       "      <td>5.000000</td>\n",
       "      <td>10.000000</td>\n",
       "      <td>1.000000</td>\n",
       "      <td>1.000000</td>\n",
       "      <td>1.000000</td>\n",
       "      <td>1.000000</td>\n",
       "      <td>1.000000</td>\n",
       "      <td>1.000000</td>\n",
       "    </tr>\n",
       "    <tr>\n",
       "      <th>25%</th>\n",
       "      <td>2021.000000</td>\n",
       "      <td>16.160000</td>\n",
       "      <td>24.920000</td>\n",
       "      <td>3.000000</td>\n",
       "      <td>3.000000</td>\n",
       "      <td>3.000000</td>\n",
       "      <td>3.000000</td>\n",
       "      <td>3.000000</td>\n",
       "      <td>3.000000</td>\n",
       "    </tr>\n",
       "    <tr>\n",
       "      <th>50%</th>\n",
       "      <td>2022.000000</td>\n",
       "      <td>27.355000</td>\n",
       "      <td>40.100000</td>\n",
       "      <td>5.000000</td>\n",
       "      <td>6.000000</td>\n",
       "      <td>5.000000</td>\n",
       "      <td>6.000000</td>\n",
       "      <td>6.000000</td>\n",
       "      <td>6.000000</td>\n",
       "    </tr>\n",
       "    <tr>\n",
       "      <th>75%</th>\n",
       "      <td>2023.000000</td>\n",
       "      <td>38.672500</td>\n",
       "      <td>55.462500</td>\n",
       "      <td>8.000000</td>\n",
       "      <td>8.000000</td>\n",
       "      <td>8.000000</td>\n",
       "      <td>8.000000</td>\n",
       "      <td>8.000000</td>\n",
       "      <td>8.000000</td>\n",
       "    </tr>\n",
       "    <tr>\n",
       "      <th>max</th>\n",
       "      <td>2024.000000</td>\n",
       "      <td>50.000000</td>\n",
       "      <td>69.990000</td>\n",
       "      <td>10.000000</td>\n",
       "      <td>10.000000</td>\n",
       "      <td>10.000000</td>\n",
       "      <td>10.000000</td>\n",
       "      <td>10.000000</td>\n",
       "      <td>10.000000</td>\n",
       "    </tr>\n",
       "  </tbody>\n",
       "</table>\n",
       "</div>"
      ],
      "text/plain": [
       "               Year  Smoking_Prevalence  Drug_Experimentation  Peer_Influence  \\\n",
       "count  10000.000000        10000.000000          10000.000000    10000.000000   \n",
       "mean    2022.000500           27.439257             40.150182        5.440100   \n",
       "std        1.425027           12.975528             17.515917        2.863151   \n",
       "min     2020.000000            5.000000             10.000000        1.000000   \n",
       "25%     2021.000000           16.160000             24.920000        3.000000   \n",
       "50%     2022.000000           27.355000             40.100000        5.000000   \n",
       "75%     2023.000000           38.672500             55.462500        8.000000   \n",
       "max     2024.000000           50.000000             69.990000       10.000000   \n",
       "\n",
       "       Family_Background  Mental_Health  Parental_Supervision  \\\n",
       "count       10000.000000   10000.000000          10000.000000   \n",
       "mean            5.513300       5.469800              5.528000   \n",
       "std             2.865038       2.879326              2.891514   \n",
       "min             1.000000       1.000000              1.000000   \n",
       "25%             3.000000       3.000000              3.000000   \n",
       "50%             6.000000       5.000000              6.000000   \n",
       "75%             8.000000       8.000000              8.000000   \n",
       "max            10.000000      10.000000             10.000000   \n",
       "\n",
       "       Community_Support  Media_Influence  \n",
       "count       10000.000000     10000.000000  \n",
       "mean            5.544600         5.506200  \n",
       "std             2.870302         2.872836  \n",
       "min             1.000000         1.000000  \n",
       "25%             3.000000         3.000000  \n",
       "50%             6.000000         6.000000  \n",
       "75%             8.000000         8.000000  \n",
       "max            10.000000        10.000000  "
      ]
     },
     "execution_count": 260,
     "metadata": {},
     "output_type": "execute_result"
    }
   ],
   "source": [
    "df.describe()"
   ]
  },
  {
   "cell_type": "markdown",
   "id": "c740e2bd-6898-4770-a6d7-48ad2b513c6e",
   "metadata": {},
   "source": [
    "### 5. Data Wrangling\n",
    "\n",
    "\n"
   ]
  },
  {
   "cell_type": "markdown",
   "id": "bda4c89b-c29c-456e-b2d9-64954ef55b86",
   "metadata": {},
   "source": [
    "Verificar o tipo de dados em cada coluna"
   ]
  },
  {
   "cell_type": "code",
   "execution_count": 264,
   "id": "df5684da-a8a2-48cd-ab44-8d7256eca757",
   "metadata": {},
   "outputs": [
    {
     "data": {
      "text/plain": [
       "Year                      int64\n",
       "Age_Group                object\n",
       "Gender                   object\n",
       "Smoking_Prevalence      float64\n",
       "Drug_Experimentation    float64\n",
       "Socioeconomic_Status     object\n",
       "Peer_Influence            int64\n",
       "School_Programs          object\n",
       "Family_Background         int64\n",
       "Mental_Health             int64\n",
       "Access_to_Counseling     object\n",
       "Parental_Supervision      int64\n",
       "Substance_Education      object\n",
       "Community_Support         int64\n",
       "Media_Influence           int64\n",
       "dtype: object"
      ]
     },
     "execution_count": 264,
     "metadata": {},
     "output_type": "execute_result"
    }
   ],
   "source": [
    "df.dtypes"
   ]
  },
  {
   "cell_type": "code",
   "execution_count": 266,
   "id": "f8806a0e-75f0-428c-aacd-58da5d10c4a6",
   "metadata": {},
   "outputs": [
    {
     "name": "stdout",
     "output_type": "stream",
     "text": [
      "Year                    0\n",
      "Age_Group               0\n",
      "Gender                  0\n",
      "Smoking_Prevalence      0\n",
      "Drug_Experimentation    0\n",
      "Socioeconomic_Status    0\n",
      "Peer_Influence          0\n",
      "School_Programs         0\n",
      "Family_Background       0\n",
      "Mental_Health           0\n",
      "Access_to_Counseling    0\n",
      "Parental_Supervision    0\n",
      "Substance_Education     0\n",
      "Community_Support       0\n",
      "Media_Influence         0\n",
      "dtype: int64\n"
     ]
    },
    {
     "data": {
      "text/html": [
       "<div>\n",
       "<style scoped>\n",
       "    .dataframe tbody tr th:only-of-type {\n",
       "        vertical-align: middle;\n",
       "    }\n",
       "\n",
       "    .dataframe tbody tr th {\n",
       "        vertical-align: top;\n",
       "    }\n",
       "\n",
       "    .dataframe thead th {\n",
       "        text-align: right;\n",
       "    }\n",
       "</style>\n",
       "<table border=\"1\" class=\"dataframe\">\n",
       "  <thead>\n",
       "    <tr style=\"text-align: right;\">\n",
       "      <th></th>\n",
       "      <th>Year</th>\n",
       "      <th>Age_Group</th>\n",
       "      <th>Gender</th>\n",
       "      <th>Smoking_Prevalence</th>\n",
       "      <th>Drug_Experimentation</th>\n",
       "      <th>Socioeconomic_Status</th>\n",
       "      <th>Peer_Influence</th>\n",
       "      <th>School_Programs</th>\n",
       "      <th>Family_Background</th>\n",
       "      <th>Mental_Health</th>\n",
       "      <th>Access_to_Counseling</th>\n",
       "      <th>Parental_Supervision</th>\n",
       "      <th>Substance_Education</th>\n",
       "      <th>Community_Support</th>\n",
       "      <th>Media_Influence</th>\n",
       "    </tr>\n",
       "  </thead>\n",
       "  <tbody>\n",
       "    <tr>\n",
       "      <th>0</th>\n",
       "      <td>2024</td>\n",
       "      <td>15-19</td>\n",
       "      <td>Both</td>\n",
       "      <td>18.85</td>\n",
       "      <td>32.40</td>\n",
       "      <td>High</td>\n",
       "      <td>5</td>\n",
       "      <td>Yes</td>\n",
       "      <td>1</td>\n",
       "      <td>5</td>\n",
       "      <td>No</td>\n",
       "      <td>4</td>\n",
       "      <td>No</td>\n",
       "      <td>3</td>\n",
       "      <td>1</td>\n",
       "    </tr>\n",
       "    <tr>\n",
       "      <th>1</th>\n",
       "      <td>2024</td>\n",
       "      <td>10-14</td>\n",
       "      <td>Female</td>\n",
       "      <td>34.88</td>\n",
       "      <td>41.57</td>\n",
       "      <td>High</td>\n",
       "      <td>6</td>\n",
       "      <td>Yes</td>\n",
       "      <td>10</td>\n",
       "      <td>5</td>\n",
       "      <td>No</td>\n",
       "      <td>9</td>\n",
       "      <td>Yes</td>\n",
       "      <td>9</td>\n",
       "      <td>3</td>\n",
       "    </tr>\n",
       "    <tr>\n",
       "      <th>2</th>\n",
       "      <td>2024</td>\n",
       "      <td>40-49</td>\n",
       "      <td>Both</td>\n",
       "      <td>33.75</td>\n",
       "      <td>42.90</td>\n",
       "      <td>Middle</td>\n",
       "      <td>10</td>\n",
       "      <td>No</td>\n",
       "      <td>9</td>\n",
       "      <td>7</td>\n",
       "      <td>Yes</td>\n",
       "      <td>2</td>\n",
       "      <td>No</td>\n",
       "      <td>10</td>\n",
       "      <td>9</td>\n",
       "    </tr>\n",
       "    <tr>\n",
       "      <th>3</th>\n",
       "      <td>2024</td>\n",
       "      <td>25-29</td>\n",
       "      <td>Male</td>\n",
       "      <td>37.71</td>\n",
       "      <td>19.46</td>\n",
       "      <td>Low</td>\n",
       "      <td>5</td>\n",
       "      <td>Yes</td>\n",
       "      <td>2</td>\n",
       "      <td>4</td>\n",
       "      <td>Yes</td>\n",
       "      <td>1</td>\n",
       "      <td>No</td>\n",
       "      <td>10</td>\n",
       "      <td>8</td>\n",
       "    </tr>\n",
       "    <tr>\n",
       "      <th>4</th>\n",
       "      <td>2024</td>\n",
       "      <td>15-19</td>\n",
       "      <td>Female</td>\n",
       "      <td>24.61</td>\n",
       "      <td>39.62</td>\n",
       "      <td>Middle</td>\n",
       "      <td>10</td>\n",
       "      <td>No</td>\n",
       "      <td>8</td>\n",
       "      <td>4</td>\n",
       "      <td>Yes</td>\n",
       "      <td>8</td>\n",
       "      <td>No</td>\n",
       "      <td>6</td>\n",
       "      <td>8</td>\n",
       "    </tr>\n",
       "  </tbody>\n",
       "</table>\n",
       "</div>"
      ],
      "text/plain": [
       "   Year Age_Group  Gender  Smoking_Prevalence  Drug_Experimentation  \\\n",
       "0  2024     15-19    Both               18.85                 32.40   \n",
       "1  2024     10-14  Female               34.88                 41.57   \n",
       "2  2024     40-49    Both               33.75                 42.90   \n",
       "3  2024     25-29    Male               37.71                 19.46   \n",
       "4  2024     15-19  Female               24.61                 39.62   \n",
       "\n",
       "  Socioeconomic_Status  Peer_Influence School_Programs  Family_Background  \\\n",
       "0                 High               5             Yes                  1   \n",
       "1                 High               6             Yes                 10   \n",
       "2               Middle              10              No                  9   \n",
       "3                  Low               5             Yes                  2   \n",
       "4               Middle              10              No                  8   \n",
       "\n",
       "   Mental_Health Access_to_Counseling  Parental_Supervision  \\\n",
       "0              5                   No                     4   \n",
       "1              5                   No                     9   \n",
       "2              7                  Yes                     2   \n",
       "3              4                  Yes                     1   \n",
       "4              4                  Yes                     8   \n",
       "\n",
       "  Substance_Education  Community_Support  Media_Influence  \n",
       "0                  No                  3                1  \n",
       "1                 Yes                  9                3  \n",
       "2                  No                 10                9  \n",
       "3                  No                 10                8  \n",
       "4                  No                  6                8  "
      ]
     },
     "execution_count": 266,
     "metadata": {},
     "output_type": "execute_result"
    }
   ],
   "source": [
    "print(df.isna().sum())\n",
    "\n",
    "df.head()"
   ]
  },
  {
   "cell_type": "markdown",
   "id": "281b9624-f039-4216-8146-cfdd3c114215",
   "metadata": {},
   "source": [
    "Remoção de colunas irrelevantes"
   ]
  },
  {
   "cell_type": "code",
   "execution_count": 269,
   "id": "b0f0417e-e7c3-4a95-a79b-bcdbf75ced4e",
   "metadata": {},
   "outputs": [],
   "source": [
    "df = df.drop(columns=['Access_to_Counseling'])"
   ]
  },
  {
   "cell_type": "markdown",
   "id": "359543b0-4173-4f71-b56f-adf10afcab72",
   "metadata": {},
   "source": [
    "### Converter as variáveis categóricas em variáveis numéricas"
   ]
  },
  {
   "cell_type": "code",
   "execution_count": 199,
   "id": "e6c7838d-fd23-4e2d-87a5-12d63c2f27d5",
   "metadata": {},
   "outputs": [],
   "source": [
    "df_coded = df.copy()"
   ]
  },
  {
   "cell_type": "markdown",
   "id": "a9875c26-1e2e-44d3-b055-cd064df7c05c",
   "metadata": {},
   "source": [
    "Variável Age_Group"
   ]
  },
  {
   "cell_type": "code",
   "execution_count": 202,
   "id": "a04fc9bb-589b-47eb-afb0-f0fe09d1f3d0",
   "metadata": {},
   "outputs": [],
   "source": [
    "le_leading_cause = LabelEncoder()\n",
    "df_coded['Age_Group'] = le_leading_cause.fit_transform(df_coded['Age_Group'])\n"
   ]
  },
  {
   "cell_type": "markdown",
   "id": "9fc5bc7d-067f-41e6-9129-128094ba613f",
   "metadata": {},
   "source": [
    "Variável Gender"
   ]
  },
  {
   "cell_type": "code",
   "execution_count": 205,
   "id": "30243b14-eef7-4aac-9866-519d9a39deb1",
   "metadata": {},
   "outputs": [],
   "source": [
    "le_leading_cause = LabelEncoder()\n",
    "df_coded['Gender'] = le_leading_cause.fit_transform(df_coded['Gender'])"
   ]
  },
  {
   "cell_type": "markdown",
   "id": "efe59849-17b5-4cc8-9295-cf9b625d5d0c",
   "metadata": {},
   "source": [
    "Variável Socioeconomic_status"
   ]
  },
  {
   "cell_type": "code",
   "execution_count": 208,
   "id": "792ef431-36b7-4c90-a6e0-430878598a0a",
   "metadata": {},
   "outputs": [],
   "source": [
    "le_leading_cause = LabelEncoder()\n",
    "df_coded['Socioeconomic_Status'] = le_leading_cause.fit_transform(df_coded['Socioeconomic_Status'])"
   ]
  },
  {
   "cell_type": "markdown",
   "id": "f4248f2c-71e5-4ee0-a2ba-7b769420f8af",
   "metadata": {},
   "source": [
    "Variável School_Programs"
   ]
  },
  {
   "cell_type": "code",
   "execution_count": 211,
   "id": "0f2ce5bf-2df1-46fd-8b34-99c11bb028ef",
   "metadata": {},
   "outputs": [],
   "source": [
    "le_leading_cause = LabelEncoder()\n",
    "df_coded['School_Programs'] = le_leading_cause.fit_transform(df_coded['School_Programs'])"
   ]
  },
  {
   "cell_type": "markdown",
   "id": "b04d92df-9f62-40cf-abba-b7f6b22f43a1",
   "metadata": {},
   "source": [
    "Variável Acess_to_Counseling"
   ]
  },
  {
   "cell_type": "code",
   "execution_count": 216,
   "id": "d54587ee-a70b-4aea-8a7c-5c6124e8c368",
   "metadata": {},
   "outputs": [],
   "source": [
    "le_leading_cause = LabelEncoder()\n",
    "df_coded['Access_to_Counseling'] = le_leading_cause.fit_transform(df_coded['Access_to_Counseling'])"
   ]
  },
  {
   "cell_type": "markdown",
   "id": "2ec9990d-ed53-4e37-b981-a89a00460f11",
   "metadata": {},
   "source": [
    "Variável Substance_Education"
   ]
  },
  {
   "cell_type": "code",
   "execution_count": 219,
   "id": "53e1b96c-bca4-49ec-a058-8606c7640960",
   "metadata": {},
   "outputs": [],
   "source": [
    "le_leading_cause = LabelEncoder()\n",
    "df_coded['Substance_Education'] = le_leading_cause.fit_transform(df_coded['Substance_Education'])"
   ]
  },
  {
   "cell_type": "markdown",
   "id": "63d61f69-f6db-445a-88b1-6586342d05ff",
   "metadata": {},
   "source": [
    "### Data Visualization\n"
   ]
  },
  {
   "cell_type": "markdown",
   "id": "c125a4fe-6cd8-4e8c-a024-e41ed5908347",
   "metadata": {},
   "source": [
    "Célula Code: EDA 1"
   ]
  },
  {
   "cell_type": "code",
   "execution_count": 121,
   "id": "125485f1-669a-4510-8347-4bcd112e114d",
   "metadata": {},
   "outputs": [
    {
     "data": {
      "image/png": "[encoded data removed]",
      "text/plain": [
       "<Figure size 1200x800 with 16 Axes>"
      ]
     },
     "metadata": {},
     "output_type": "display_data"
    },
    {
     "data": {
      "image/png": "[encoded data removed]",
      "text/plain": [
       "<Figure size 1000x600 with 1 Axes>"
      ]
     },
     "metadata": {},
     "output_type": "display_data"
    }
   ],
   "source": [
    "df.hist(bins=20, figsize=(12,8))\n",
    "plt.show()\n",
    "\n",
    "# Boxplot do alvo\n",
    "sns.boxplot(y='Drug_Experimentation', data=df)\n",
    "plt.title('Distrib. do Alvo (Drug_Experimentation)')\n",
    "plt.show()"
   ]
  },
  {
   "cell_type": "markdown",
   "id": "f0b4860c-3a5b-4cdd-8d74-24dc1cdd3787",
   "metadata": {},
   "source": [
    "EDA 2 (Correlação)"
   ]
  },
  {
   "cell_type": "code",
   "execution_count": null,
   "id": "e13ec3d7-8c86-45d7-9ebc-a71732caaa20",
   "metadata": {},
   "outputs": [],
   "source": [
    "# Somente colunas numéricas:\n",
    "numeric_cols = df.select_dtypes(include=[np.number]).columns\n",
    "corr = df[numeric_cols].corr()\n",
    "sns.heatmap(corr, annot=True, cmap='Blues')\n",
    "plt.title('Heatmap de Correlação (Numéricos)')\n",
    "plt.show()"
   ]
  },
  {
   "cell_type": "markdown",
   "id": "35db7bdc-ac79-402e-8fa7-817f16c5bd01",
   "metadata": {},
   "source": [
    "EDA 3 (exemplo)"
   ]
  },
  {
   "cell_type": "code",
   "execution_count": 127,
   "id": "2aa6912e-fbe7-4cbd-92cb-18267aea90bc",
   "metadata": {},
   "outputs": [
    {
     "data": {
      "image/png": "[encoded data removed]",
      "text/plain": [
       "<Figure size 1000x600 with 1 Axes>"
      ]
     },
     "metadata": {},
     "output_type": "display_data"
    },
    {
     "data": {
      "image/png": "[encoded data removed]",
      "text/plain": [
       "<Figure size 1000x600 with 1 Axes>"
      ]
     },
     "metadata": {},
     "output_type": "display_data"
    }
   ],
   "source": [
    "# Relação de colunas categóricas ex: Gender, School_Programs\n",
    "sns.countplot(x='Gender', data=df)\n",
    "plt.title('Distrib. Gender')\n",
    "plt.show()\n",
    "\n",
    "sns.countplot(x='School_Programs', data=df)\n",
    "plt.title('School Programs Frequência')\n",
    "plt.show()\n"
   ]
  },
  {
   "cell_type": "code",
   "execution_count": 294,
   "id": "695c58c9-49a6-40e2-9cc2-b5fa963d3b2c",
   "metadata": {},
   "outputs": [],
   "source": [
    "# 1) Definir X, y\n",
    "target = \"Drug_Experimentation\"\n",
    "y = df_coded[target]                 \n",
    "X = df_coded.drop(target, axis=1)"
   ]
  },
  {
   "cell_type": "code",
   "execution_count": 296,
   "id": "b3d2f244-dc48-4f97-ae7e-bef5b96c71eb",
   "metadata": {},
   "outputs": [],
   "source": [
    "# Dividir os dados de treino\n",
    "from sklearn.model_selection import train_test_split\n",
    "X_train, X_test, y_train, y_test = train_test_split(\n",
    "    X, y,\n",
    "    test_size=0.2,\n",
    "    random_state=42\n",
    ")"
   ]
  },
  {
   "cell_type": "code",
   "execution_count": 298,
   "id": "e3f2d1a9-8fac-4067-993b-2400f0d7376c",
   "metadata": {},
   "outputs": [
    {
     "name": "stdout",
     "output_type": "stream",
     "text": [
      "X_train_scaled shape => (8000, 14)\n",
      "X_test_scaled shape  => (2000, 14)\n",
      "y_train shape => (8000,)   y_test shape => (2000,)\n"
     ]
    }
   ],
   "source": [
    "# Escalar os dados\n",
    "from sklearn.preprocessing import StandardScaler\n",
    "scaler = StandardScaler()\n",
    "X_train_scaled = scaler.fit_transform(X_train)\n",
    "X_test_scaled  = scaler.transform(X_test)\n",
    "print(\"X_train_scaled shape =>\", X_train_scaled.shape)\n",
    "print(\"X_test_scaled shape  =>\", X_test_scaled.shape)\n",
    "print(\"y_train shape =>\", y_train.shape, \"  y_test shape =>\", y_test.shape)"
   ]
  },
  {
   "cell_type": "code",
   "execution_count": 300,
   "id": "536862fb-9a61-4d74-b09f-a2e8e6007fe1",
   "metadata": {},
   "outputs": [
    {
     "name": "stdout",
     "output_type": "stream",
     "text": [
      "Linear => RMSE: 17.3821, R2: -0.0023\n",
      "KNN => RMSE: 18.9952, R2: -0.1970\n",
      "DecisionTree => RMSE: 24.7058, R2: -1.0249\n",
      "RandomForest => RMSE: 17.5537, R2: -0.0222\n",
      "SVR => RMSE: 17.4669, R2: -0.0121\n"
     ]
    }
   ],
   "source": [
    "# treinar os modelos\n",
    "models = {\n",
    "    \"Linear\": LinearRegression(),\n",
    "    \"KNN\": KNeighborsRegressor(),\n",
    "    \"DecisionTree\": DecisionTreeRegressor(random_state=7),\n",
    "    \"RandomForest\": RandomForestRegressor(random_state=7),\n",
    "    \"SVR\": SVR()\n",
    "}\n",
    "\n",
    "results_no_tuning = {}\n",
    "for name, model in models.items():\n",
    "    model.fit(X_train_scaled, y_train)\n",
    "    y_pred = model.predict(X_test_scaled)\n",
    "    rmse = np.sqrt(mean_squared_error(y_test, y_pred))\n",
    "    r2   = r2_score(y_test, y_pred)\n",
    "    results_no_tuning[name] = (rmse, r2)\n",
    "\n",
    "# Imprimir resultados\n",
    "for name, (rmse, r2) in results_no_tuning.items():\n",
    "    print(f\"{name} => RMSE: {rmse:.4f}, R2: {r2:.4f}\")"
   ]
  },
  {
   "cell_type": "code",
   "execution_count": 302,
   "id": "fb13394f-83a6-47a8-ac89-235ab0f78c22",
   "metadata": {},
   "outputs": [
    {
     "name": "stdout",
     "output_type": "stream",
     "text": [
      "===== RESULTADOS SEM TUNING =====\n",
      "Linear => RMSE: 17.3821, R2: -0.0023\n",
      "KNN => RMSE: 18.9952, R2: -0.1970\n",
      "DecisionTree => RMSE: 24.7058, R2: -1.0249\n",
      "RandomForest => RMSE: 17.5537, R2: -0.0222\n",
      "SVR => RMSE: 17.4669, R2: -0.0121\n"
     ]
    }
   ],
   "source": [
    "# treinar e avaliar modelos\n",
    "models = {\n",
    "    \"Linear\": LinearRegression(),\n",
    "    \"KNN\": KNeighborsRegressor(),\n",
    "    \"DecisionTree\": DecisionTreeRegressor(random_state=7),\n",
    "    \"RandomForest\": RandomForestRegressor(random_state=7),\n",
    "    \"SVR\": SVR()\n",
    "}\n",
    "\n",
    "results_no_tuning = {}\n",
    "for name, model in models.items():\n",
    "    model.fit(X_train_scaled, y_train)\n",
    "    y_pred = model.predict(X_test_scaled)\n",
    "    rmse = np.sqrt(mean_squared_error(y_test, y_pred))\n",
    "    r2 = r2_score(y_test, y_pred)\n",
    "    results_no_tuning[name] = (rmse, r2)\n",
    "\n",
    "print(\"===== RESULTADOS SEM TUNING =====\")\n",
    "for name, (rmse, r2) in results_no_tuning.items():\n",
    "    print(f\"{name} => RMSE: {rmse:.4f}, R2: {r2:.4f}\")"
   ]
  },
  {
   "cell_type": "code",
   "execution_count": 304,
   "id": "82887e4c-c906-4d51-a4ae-ee310ab9aaa7",
   "metadata": {},
   "outputs": [
    {
     "name": "stdout",
     "output_type": "stream",
     "text": [
      "\n",
      "===== RandomForest + GridSearchCV =====\n",
      "Melhores parâmetros: {'max_depth': 5, 'n_estimators': 100}\n",
      "RMSE: 17.3803, R2: -0.0021\n"
     ]
    }
   ],
   "source": [
    "# RandomForest + GridSearchCV\n",
    "param_grid = {\n",
    "    \"n_estimators\": [50, 100],\n",
    "    \"max_depth\": [5, 10, None]\n",
    "}\n",
    "rf_grid = GridSearchCV(\n",
    "    RandomForestRegressor(random_state=7),\n",
    "    param_grid=param_grid,\n",
    "    cv=5,\n",
    "    scoring=\"neg_mean_squared_error\",\n",
    "    n_jobs=-1\n",
    ")\n",
    "rf_grid.fit(X_train_scaled, y_train)\n",
    "\n",
    "best_rf_grid = rf_grid.best_estimator_\n",
    "y_pred_rf_grid = best_rf_grid.predict(X_test_scaled)\n",
    "rmse_rf_grid = np.sqrt(mean_squared_error(y_test, y_pred_rf_grid))\n",
    "r2_rf_grid = r2_score(y_test, y_pred_rf_grid)\n",
    "\n",
    "print(\"\\n===== RandomForest + GridSearchCV =====\")\n",
    "print(\"Melhores parâmetros:\", rf_grid.best_params_)\n",
    "print(f\"RMSE: {rmse_rf_grid:.4f}, R2: {r2_rf_grid:.4f}\")"
   ]
  },
  {
   "cell_type": "code",
   "execution_count": 306,
   "id": "9d6c1d7f-9028-44c6-bbc8-e91c3c1bb8e6",
   "metadata": {},
   "outputs": [
    {
     "name": "stdout",
     "output_type": "stream",
     "text": [
      "\n",
      "===== SVR + RandomizedSearchCV =====\n",
      "Melhores parâmetros: {'kernel': 'poly', 'gamma': 0.01, 'C': 1}\n",
      "RMSE: 17.3648, R2: -0.0003\n"
     ]
    }
   ],
   "source": [
    "# SVR + RandomizedSearchCV\n",
    "param_dist = {\n",
    "    \"C\": [0.1, 1, 10, 100],\n",
    "    \"gamma\": [\"scale\", \"auto\", 0.01, 0.1],\n",
    "    \"kernel\": [\"rbf\", \"poly\"]\n",
    "}\n",
    "svr_rand = RandomizedSearchCV(\n",
    "    SVR(),\n",
    "    param_distributions=param_dist,\n",
    "    n_iter=5,\n",
    "    cv=5,\n",
    "    scoring=\"neg_mean_squared_error\",\n",
    "    random_state=7,\n",
    "    n_jobs=-1\n",
    ")\n",
    "svr_rand.fit(X_train_scaled, y_train)\n",
    "\n",
    "best_svr_rand = svr_rand.best_estimator_\n",
    "y_pred_svr_rand = best_svr_rand.predict(X_test_scaled)\n",
    "rmse_svr_rand = np.sqrt(mean_squared_error(y_test, y_pred_svr_rand))\n",
    "r2_svr_rand = r2_score(y_test, y_pred_svr_rand)\n",
    "\n",
    "print(\"\\n===== SVR + RandomizedSearchCV =====\")\n",
    "print(\"Melhores parâmetros:\", svr_rand.best_params_)\n",
    "print(f\"RMSE: {rmse_svr_rand:.4f}, R2: {r2_svr_rand:.4f}\")"
   ]
  },
  {
   "cell_type": "code",
   "execution_count": 308,
   "id": "e5c91ade-ccbc-42b4-a610-2c6cebb74e70",
   "metadata": {},
   "outputs": [],
   "source": [
    "# Rede Neural\n",
    "ann = Sequential()\n",
    "ann.add(Dense(16, activation='relu', input_dim=X_train_scaled.shape[1]))\n",
    "ann.add(Dense(8, activation='relu'))\n",
    "# ann.add(Dropout(0.2))  # se quiser\n",
    "ann.add(Dense(1, activation='linear'))  # saída p/ regressão\n",
    "\n",
    "ann.compile(optimizer='adam', loss='mse')\n",
    "history = ann.fit(\n",
    "    X_train_scaled, y_train,\n",
    "    epochs=30,\n",
    "    batch_size=32,\n",
    "    validation_split=0.2,\n",
    "    verbose=0\n",
    ")"
   ]
  },
  {
   "cell_type": "code",
   "execution_count": 310,
   "id": "508432e5-837c-496c-b301-22ea27428721",
   "metadata": {},
   "outputs": [
    {
     "name": "stdout",
     "output_type": "stream",
     "text": [
      "\u001b[1m63/63\u001b[0m \u001b[32m━━━━━━━━━━━━━━━━━━━━\u001b[0m\u001b[37m\u001b[0m \u001b[1m0s\u001b[0m 2ms/step\n",
      "\n",
      "===== Rede Neural (ANN) =====\n",
      "RMSE: 17.6459, R2: -0.0330\n"
     ]
    },
    {
     "data": {
      "image/png": "[encoded data removed]",
      "text/plain": [
       "<Figure size 1000x600 with 1 Axes>"
      ]
     },
     "metadata": {},
     "output_type": "display_data"
    }
   ],
   "source": [
    "# Avaliar no teste\n",
    "y_pred_ann = ann.predict(X_test_scaled).ravel()\n",
    "rmse_ann = np.sqrt(mean_squared_error(y_test, y_pred_ann))\n",
    "r2_ann = r2_score(y_test, y_pred_ann)\n",
    "\n",
    "print(\"\\n===== Rede Neural (ANN) =====\")\n",
    "print(f\"RMSE: {rmse_ann:.4f}, R2: {r2_ann:.4f}\")\n",
    "\n",
    "# Plot da curva de loss (opcional)\n",
    "import matplotlib.pyplot as plt\n",
    "plt.figure()\n",
    "plt.plot(history.history[\"loss\"], label=\"Train Loss\")\n",
    "plt.plot(history.history[\"val_loss\"], label=\"Val Loss\")\n",
    "plt.title(\"Evolução da Loss (MSE) - ANN\")\n",
    "plt.legend()\n",
    "plt.show()"
   ]
  },
  {
   "cell_type": "code",
   "execution_count": 312,
   "id": "ad653b99-a9bf-47dc-a60e-03d9e3cdea51",
   "metadata": {},
   "outputs": [
    {
     "name": "stdout",
     "output_type": "stream",
     "text": [
      "\n",
      "===== COMPARAÇÃO FINAL =====\n",
      "Linear (No Tuning) => RMSE: 17.3821, R2: -0.0023\n",
      "KNN (No Tuning) => RMSE: 18.9952, R2: -0.1970\n",
      "DecisionTree (No Tuning) => RMSE: 24.7058, R2: -1.0249\n",
      "RandomForest (No Tuning) => RMSE: 17.5537, R2: -0.0222\n",
      "SVR (No Tuning) => RMSE: 17.4669, R2: -0.0121\n"
     ]
    }
   ],
   "source": [
    "print(\"\\n===== COMPARAÇÃO FINAL =====\")\n",
    "# Resultados sem tuning\n",
    "for name, (rmse, r2) in results_no_tuning.items():\n",
    "    print(f\"{name} (No Tuning) => RMSE: {rmse:.4f}, R2: {r2:.4f}\")"
   ]
  },
  {
   "cell_type": "code",
   "execution_count": 314,
   "id": "07363a66-b950-4643-937b-f15cbaadf129",
   "metadata": {},
   "outputs": [
    {
     "name": "stdout",
     "output_type": "stream",
     "text": [
      "\n",
      "RandomForest + GridSearch => RMSE: 17.3803, R2: -0.0021\n",
      "SVR + RandomSearch => RMSE: 17.3648, R2: -0.0003\n",
      "ANN => RMSE: 17.6459, R2: -0.0330\n"
     ]
    }
   ],
   "source": [
    "# Resultados com tuning\n",
    "print(\"\\nRandomForest + GridSearch => RMSE: {:.4f}, R2: {:.4f}\".format(rmse_rf_grid, r2_rf_grid))\n",
    "print(\"SVR + RandomSearch => RMSE: {:.4f}, R2: {:.4f}\".format(rmse_svr_rand, r2_svr_rand))\n",
    "print(\"ANN => RMSE: {:.4f}, R2: {:.4f}\".format(rmse_ann, r2_ann))"
   ]
  },
  {
   "cell_type": "code",
   "execution_count": 316,
   "id": "a8722a07-2cf7-4aa0-b021-977515221cc8",
   "metadata": {},
   "outputs": [
    {
     "data": {
      "text/plain": [
       "\"\\nConclusões:\\n-----------\\n- Observar qual modelo obteve maior R2 e menor RMSE.\\n- Ver se tuning (GridSearch/RandomSearch) melhorou o desempenho.\\n- Discutir possíveis overfitting e limitações.\\n- Apresentar insights sobre 'Drug_Experimentation'.\\n\\nFIM.\\n\""
      ]
     },
     "execution_count": 316,
     "metadata": {},
     "output_type": "execute_result"
    }
   ],
   "source": [
    "\"\"\"\n",
    "Conclusões:\n",
    "-----------\n",
    "- Observar qual modelo obteve maior R2 e menor RMSE.\n",
    "- Ver se tuning (GridSearch/RandomSearch) melhorou o desempenho.\n",
    "- Discutir possíveis overfitting e limitações.\n",
    "- Apresentar insights sobre 'Drug_Experimentation'.\n",
    "\n",
    "FIM.\n",
    "\"\"\""
   ]
  },
  {
   "cell_type": "code",
   "execution_count": null,
   "id": "446dc8a1-92ba-4b2c-811e-1fa1ca2bd12b",
   "metadata": {},
   "outputs": [],
   "source": []
  }
 ],
 "metadata": {
  "kernelspec": {
   "display_name": "Python 3 (ipykernel)",
   "language": "python",
   "name": "python3"
  },
  "language_info": {
   "codemirror_mode": {
    "name": "ipython",
    "version": 3
   },
   "file_extension": ".py",
   "mimetype": "text/x-python",
   "name": "python",
   "nbconvert_exporter": "python",
   "pygments_lexer": "ipython3",
   "version": "3.12.4"
  }
 },
 "nbformat": 4,
 "nbformat_minor": 5
}
