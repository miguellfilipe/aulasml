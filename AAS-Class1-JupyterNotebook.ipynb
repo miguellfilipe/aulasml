{
 "cells": [
  {
   "cell_type": "markdown",
   "metadata": {},
   "source": [
    "# Class 1 - Introduction to Jupyter Notebook"
   ]
  },
  {
   "cell_type": "markdown",
   "metadata": {},
   "source": [
    "(*partially retrieved from https://www.dataquest.io/blog/jupyter-notebook-tutorial/*)\n",
    "\n",
    "## How to create a Notebook\n",
    "\n",
    "With Jupyter Notebook open in your browser, you may have noticed that the URL for the dashboard is something like `http://localhost:8888/tree`. Localhost is not a website, but indicates that the content is being served from your local machine: your own computer.\n",
    "\n",
    "Jupyter’s Notebooks and dashboard are web apps, and Jupyter starts up a local Python server to serve these apps to your web browser, making it essentially platform-independent and opening the door to easier sharing on the web.\n",
    "\n",
    "(If you don't understand this yet, don't worry — the important point is just that although Jupyter Notebooks opens in your browser, it's being hosted and run on your local machine. Your notebooks aren't actually on the web until you decide to share them.)\n",
    "\n",
    "The dashboard’s interface is mostly self-explanatory — though we will come back to it briefly later. So what are we waiting for? Browse to the folder in which you would like to create your first notebook, click the “New” drop-down button in the top-right and select “Python 3”:\n",
    "\n",
    "![1](https://www.dataquest.io/wp-content/uploads/2019/01/new-notebook-menu.jpg)\n",
    "\n",
    "Hey presto, here we are! Your first Jupyter Notebook will open in new tab — each notebook uses its own tab because you can open multiple notebooks simultaneously.\n",
    "\n",
    "If you switch back to the dashboard, you will see the new file Untitled.ipynb and you should see some green text that tells you your notebook is running."
   ]
  },
  {
   "cell_type": "markdown",
   "metadata": {},
   "source": [
    "## What is an .ipynb file?"
   ]
  },
  {
   "cell_type": "markdown",
   "metadata": {},
   "source": [
    "he short answer: each `.ipynb` file is one notebook, so each time you create a new notebook, a new  `.ipynb` file will be created.  \n",
    "\n",
    "The longer answer: Each `.ipynb` file is a text file that describes the contents of your notebook in a format called JSON. Each cell and its contents, including image attachments that have been converted into strings of text, is listed therein along with some metadata.\n",
    "\n",
    "You can edit this yourself — if you know what you are doing! — by selecting “Edit > Edit Notebook Metadata” from the menu bar in the notebook. You can also view the contents of your notebook files by selecting “Edit” from the controls on the dashboard\n",
    "\n",
    "However, the key word there is can. In most cases, there's no reason you should ever need to edit your notebook metadata manually."
   ]
  },
  {
   "cell_type": "markdown",
   "metadata": {},
   "source": [
    "## The Notebook Interface\n",
    "\n",
    "Now that you have an open notebook in front of you, its interface will hopefully not look entirely alien. After all, Jupyter is essentially just an advanced word processor.\n",
    "\n",
    "Why not take a look around? Check out the menus to get a feel for it, especially take a few moments to scroll down the list of commands in the command palette, which is the small button with the keyboard icon `(or Ctrl + Shift + P)`.\n",
    "\n",
    "![2](https://www.dataquest.io/wp-content/uploads/2019/01/new-notebook.jpg)\n",
    "\n",
    "There are two fairly prominent terms that you should notice, which are probably new to you: *cells* and *kernels* are key both to understanding Jupyter and to what makes it more than just a word processor. Fortunately, these concepts are not difficult to understand.\n",
    "\n",
    "* A kernel is a “computational engine” that executes the code contained in a notebook document.\n",
    "* A cell is a container for text to be displayed in the notebook or code to be executed by the notebook’s kernel."
   ]
  },
  {
   "cell_type": "markdown",
   "metadata": {},
   "source": [
    "## Cells\n",
    "\n",
    "We’ll return to kernels a little later, but first let’s come to grips with cells. Cells form the body of a notebook. In the screenshot of a new notebook in the section above, that box with the green outline is an empty cell. There are two main cell types that we will cover:\n",
    "\n",
    "* A **code cell** contains code to be executed in the kernel. When the code is run, the notebook displays the output below the code cell that generated it.\n",
    "* A **Markdown cell** contains text formatted using Markdown and displays its output in-place when the Markdown cell is run.\n",
    "\n",
    "The first cell in a new notebook is always a code cell.\n",
    "\n",
    "Let’s test it out with a classic hello world example: \n",
    "\n",
    "Type `print('Hello World!')` into the cell and click the run button: ![3](https://www.dataquest.io/wp-content/uploads/2019/01/run-button.jpg)\n",
    "\n",
    "in the toolbar above or press `Ctrl + Enter`.\n",
    "\n",
    "The result should look like this:"
   ]
  },
  {
   "cell_type": "code",
   "execution_count": null,
   "metadata": {
    "scrolled": true
   },
   "outputs": [],
   "source": [
    "print('Olá mundo!')\n",
    "print('Hello world!')"
   ]
  },
  {
   "cell_type": "markdown",
   "metadata": {},
   "source": [
    "When we run the cell, its output is displayed below and the label to its left will have changed from `In [ ]` to In `[1]`.\n",
    "\n",
    "The output of a code cell also forms part of the document, which is why you can see it in this article. You can always tell the difference between code and Markdown cells because code cells have that label on the left and Markdown cells do not.\n",
    "\n",
    "The `“In”` part of the label is simply short for `“Input”`, while the label number indicates when the cell was executed on the kernel — in this case the cell was executed first.\n",
    "\n",
    "Run the cell again and the label will change to `In [2]` because now the cell was the second to be run on the kernel. It will become clearer why this is so useful later on when we take a closer look at kernels.\n",
    "\n",
    "From the menu bar, click Insert and select Insert Cell Below to create a new code cell underneath your first and try out the following code to see what happens. Do you notice anything different?"
   ]
  },
  {
   "cell_type": "code",
   "execution_count": null,
   "metadata": {},
   "outputs": [],
   "source": [
    "import time\n",
    "time.sleep(3)"
   ]
  },
  {
   "cell_type": "markdown",
   "metadata": {},
   "source": [
    "This cell doesn’t produce any output, but it does take three seconds to execute. Notice how Jupyter signifies when the cell is currently running by changing its label to `In [*]`. \n",
    "\n",
    "In general, the output of a cell comes from any text data specifically printed during the cell's execution, as well as the value of the last line in the cell, be it a lone variable, a function call, or something else. For example:"
   ]
  },
  {
   "cell_type": "code",
   "execution_count": null,
   "metadata": {},
   "outputs": [],
   "source": [
    "def say_hello(recipient):\n",
    "    return 'Hello, {}!'.format(recipient)"
   ]
  },
  {
   "cell_type": "code",
   "execution_count": null,
   "metadata": {},
   "outputs": [],
   "source": [
    "say_hello('Nome')"
   ]
  },
  {
   "cell_type": "markdown",
   "metadata": {},
   "source": [
    "## Keyboard Shortcuts\n",
    "\n",
    "One final thing you may have observed when running your cells is that their border turns blue, whereas it was green while you were editing. In a Jupyter Notebook, there is always one “active” cell highlighted with a border whose color denotes its current mode:\n",
    "\n",
    "* <font color='green'>Green</font> outline — cell is in \"**edit mode**\"\n",
    "* <font color='blue'>Blue</font> outline — cell is in \"**command mode**\"\n",
    "\n",
    "So what can we do to a cell when it's in command mode? So far, we have seen how to run a cell with `Ctrl + Enter`, but there are plenty of other commands we can use. The best way to use them is with keyboard shortcuts\n",
    "\n",
    "Keyboard shortcuts are a very popular aspect of the Jupyter environment because they facilitate a speedy cell-based workflow. Many of these are actions you can carry out on the active cell when it’s in command mode.\n",
    "\n",
    "Below, you’ll find a list of some of Jupyter’s keyboard shortcuts. You don't need to memorize them all immediately, but this list should give you a good idea of what’s possible.\n",
    "\n",
    "* Toggle between edit and command mode with Esc and Enter, respectively.\n",
    "* Once in command mode:\n",
    "    * Scroll up and down your cells with your Up and Down keys.\n",
    "    * Press A or B to insert a new cell above or below the active cell.\n",
    "    * M will transform the active cell to a Markdown cell.\n",
    "    * Y will set the active cell to a code cell.\n",
    "    * D + D (D twice) will delete the active cell.\n",
    "    * Z will undo cell deletion.\n",
    "    * Hold Shift and press Up or Down to select multiple cells at once. With multiple cells selected, Shift + M will merge your selection.\n",
    "* `Ctrl + Shift + -`, in edit mode, will split the active cell at the cursor.\n",
    "You can also click and Shift + Click in the margin to the left of your cells to select them."
   ]
  },
  {
   "cell_type": "markdown",
   "metadata": {},
   "source": [
    "## Markdown\n",
    "\n",
    "Markdown is a lightweight, easy to learn markup language for formatting plain text. Its syntax has a one-to-one correspondence with HTML tags, so some prior knowledge here would be helpful but is definitely not a prerequisite.\n",
    "\n",
    "Remember that this article was written in a Jupyter notebook, so all of the narrative text and images you have seen so far were achieved writing in Markdown. Let’s cover the basics with a quick example:\n",
    "\n",
    "# This is a level 1 heading\n",
    "\n",
    "## This is a level 2 heading\n",
    "\n",
    "This is some plain text that forms a paragraph. Add emphasis via **bold** and __bold__, or *italic* and _italic_. \n",
    "\n",
    "Paragraphs must be separated by an empty line. \n",
    "\n",
    "* Sometimes we want to include lists. \n",
    "* Which can be bulleted using asterisks. \n",
    "\n",
    "1. Lists can also be numbered. \n",
    "2. If we want an ordered list.\n",
    "\n",
    "[It is possible to include hyperlinks](https://www.example.com)\n",
    "\n",
    "Inline code uses single backticks: `foo()`, and code blocks use triple backticks: \n",
    "```\n",
    "bar()\n",
    "``` \n",
    "Or can be indented by 4 spaces: \n",
    "\n",
    "    foo()\n",
    "    \n",
    "And finally, adding images is easy: ![Alt text](https://www.dataquest.io/wp-content/uploads/2019/01/1-LPnY8nOLg4S6_TG0DEXwsg-1-768x382.png)\n",
    "\n",
    "### Help on Markdown format\n",
    "\n",
    "[Ver este link para mais infos](https://www.earthdatascience.org/courses/intro-to-earth-data-science/file-formats/use-text-files/format-text-with-markdown-jupyter-notebook/)"
   ]
  },
  {
   "cell_type": "markdown",
   "metadata": {},
   "source": [
    "## Kernels\n",
    "\n",
    "Behind every notebook runs a kernel. When you run a code cell, that code is executed within the kernel. Any output is returned back to the cell to be displayed. The kernel’s state persists over time and between cells — it pertains to the document as a whole and not individual cells.\n",
    "\n",
    "For example, if you import libraries or declare variables in one cell, they will be available in another. \n",
    "\n",
    "Let’s try this out to get a feel for it. First, we’ll import a Python package and define a function:"
   ]
  },
  {
   "cell_type": "code",
   "execution_count": null,
   "metadata": {},
   "outputs": [],
   "source": [
    "# Biblioteca Numpy (apenas de suporte - iremos falar noutra aula sobre o Numpy)\n",
    "\n",
    "import numpy as np\n",
    "def calcular_expoente(x, y):\n",
    "    return x ** y\n",
    "var1 = calcular_expoente(2,3)\n",
    "var2 = calcular_expoente(2,4)\n",
    "var1"
   ]
  },
  {
   "cell_type": "code",
   "execution_count": null,
   "metadata": {},
   "outputs": [],
   "source": [
    "var2"
   ]
  },
  {
   "cell_type": "markdown",
   "metadata": {},
   "source": [
    "Once we’ve executed the cell above, we can reference `np` and `square` function in any other cell. "
   ]
  },
  {
   "cell_type": "code",
   "execution_count": null,
   "metadata": {},
   "outputs": [],
   "source": [
    "x = np.random.randint(1, 10)\n",
    "y = calcularExpoente(x)\n",
    "print('%d squared is %d' % (x, y))"
   ]
  },
  {
   "cell_type": "markdown",
   "metadata": {},
   "source": [
    "This will work regardless of the order of the cells in your notebook. As long as a cell has been run, any variables you declared or libraries you imported will be available in other cells.\n",
    "\n",
    "You can try it yourself, let’s print out our variables again."
   ]
  },
  {
   "cell_type": "code",
   "execution_count": null,
   "metadata": {},
   "outputs": [],
   "source": [
    "print('Is %d squared %d?' % (x, y))"
   ]
  },
  {
   "cell_type": "markdown",
   "metadata": {},
   "source": [
    "No surprises here! But what happens if we change the value of  y?"
   ]
  },
  {
   "cell_type": "code",
   "execution_count": null,
   "metadata": {},
   "outputs": [],
   "source": [
    "y = 10\n",
    "print('Is %d squared is %d?' % (x, y))"
   ]
  },
  {
   "cell_type": "markdown",
   "metadata": {},
   "source": [
    "We will get an output like: Is `x` squared `y`?. No!\n",
    "\n",
    "This is because once we've run the `y = 10` code cell, y is no longer equal to the square of x in the kernel. \n",
    "\n",
    "Most of the time when you create a notebook, the flow will be top-to-bottom. But it’s common to go back to make changes. When we do need to make changes to an earlier cell, the order of execution we can see on the left of each cell, such as In [6], can help us diagnose problems by seeing what order the cells have run in. \n",
    "\n",
    "And if we ever wish to reset things, there are several incredibly useful options from the Kernel menu:\n",
    "\n",
    "* Restart: restarts the kernel, thus clearing all the variables etc that were defined.\n",
    "* Restart & Clear Output: same as above but will also wipe the output displayed below your code cells.\n",
    "* Restart & Run All: same as above but will also run all your cells in order from first to last.\n",
    "\n",
    "If your kernel is ever stuck on a computation and you wish to stop it, you can choose the Interrupt option."
   ]
  },
  {
   "cell_type": "markdown",
   "metadata": {},
   "source": [
    "## Choosing a Kernel\n",
    "\n",
    "You may have noticed that Jupyter gives you the option to change kernel, and in fact there are many different options to choose from. Back when you created a new notebook from the dashboard by selecting a Python version, you were actually choosing which kernel to use.\n",
    "\n",
    "There kernels for different versions of Python, and also for over 100 languages including Java, C, and even Fortran. Data scientists may be particularly interested in the kernels for R and Julia, as well as both imatlab and the Calysto MATLAB Kernel for Matlab.\n",
    "\n",
    "The SoS kernel provides multi-language support within a single notebook.\n",
    "\n",
    "Each kernel has its own installation instructions, but will likely require you to run some commands on your computer."
   ]
  },
  {
   "cell_type": "markdown",
   "metadata": {},
   "source": [
    "## Save and Checkpoint\n",
    "\n",
    "Now we’ve got started, it’s best practice to save regularly. Pressing `Ctrl + S` will save our notebook by calling the `“Save and Checkpoint”`. \n",
    "\n",
    "**The `Save and Checkpoint` command saves the notebook state as it is! With all the code inputs, outputs, graphics, markdowns and so on.**\n",
    "\n",
    "Every time we create a new notebook, a checkpoint file is created along with the notebook file. It is located within a hidden subdirectory of your save location called `.ipynb_checkpoints` and is also a `.ipynb` file.\n",
    "\n",
    "By default, Jupyter will autosave your notebook every 120 seconds to this checkpoint file without altering your primary notebook file. When you “Save and Checkpoint,” both the notebook and checkpoint files are updated. Hence, the checkpoint enables you to recover your unsaved work in the event of an unexpected issue.\n",
    "\n",
    "You can revert to the checkpoint from the menu via “File > Revert to Checkpoint.”\n",
    "\n",
    "### This ends our Jupyter Notebook explanation\n",
    "\n",
    "**Jupyter Notebook** has lots of features! The examples present in this notebook correspond (most probably) to 80% of the most common actions you will perform while working with Jupyter Notebook.\n",
    "\n",
    "[1. See this link for more information about the Jupyter Notebook features](https://www.dataquest.io/blog/advanced-jupyter-notebooks-tutorial/) \n",
    "\n",
    "[2. A notebook containing more information about Jupyter Notebook](https://jupyter.brynmawr.edu/services/public/dblank/Jupyter%20Notebook%20Users%20Manual.ipynb)"
   ]
  }
 ],
 "metadata": {
  "kernelspec": {
   "display_name": "Python 3 (ipykernel)",
   "language": "python",
   "name": "python3"
  },
  "language_info": {
   "codemirror_mode": {
    "name": "ipython",
    "version": 3
   },
   "file_extension": ".py",
   "mimetype": "text/x-python",
   "name": "python",
   "nbconvert_exporter": "python",
   "pygments_lexer": "ipython3",
   "version": "3.9.12"
  }
 },
 "nbformat": 4,
 "nbformat_minor": 4
}
