{
 "cells": [
  {
   "cell_type": "markdown",
   "metadata": {},
   "source": [
    "# 1. Introduction\n",
    "\n",
    "A data structure is an 'object' in a program that holds a collection of data. A simple\n",
    "data structure might be an 'array' that holds the components of a vector, or a list of\n",
    "names. A more complicated data structure might represent a telephone directory, \n",
    "holding [name, telephone number] pairs.\n",
    "\n",
    "Modern languages, like Python, provide a range of library (built-in) data structures.\n",
    "These are well-tested and optimised; it is good practice to use library data structures to make programs\n",
    "simpler, easier to read and more efficient. \n",
    "\n",
    "It is possible to develop your own data structures for special purposes. In this week,\n",
    "we focus on selecting and using built-in data structures. \n",
    "\n",
    "\n",
    "### 1.1 Objectives\n",
    "\n",
    "- Use `list` (and stacks), `tuple`, `set`, dictionary (`dict`) data structures\n",
    "- Use specific methods to perform certain tasks for each data type\n",
    "- Learn to select the right data structure for an application"
   ]
  },
  {
   "cell_type": "markdown",
   "metadata": {},
   "source": [
    "# 2. Data structures\n",
    "\n",
    "So far we have restricted our examples to simple built-in data types, e.g. `string`, `int`, `bool`, `str`, `complex` and `float`. In practice, programs will use *data structures* to collect data together into useful packages. \n",
    "\n",
    "Python also has several built-in compound types, which act as containers for other types.\n",
    "These compound types are:\n",
    "\n",
    "| Type Name | Example                   |Description                            |\n",
    "|-----------|---------------------------|---------------------------------------|\n",
    "| ``list``  | ``[1, 2, 3]``             | Ordered collection                    |\n",
    "| ``tuple`` | ``(1, 2, 3)``             | Immutable ordered collection          |\n",
    "| ``dict``  | ``{'a':1, 'b':2, 'c':3}`` | Unordered (key,value) mapping         |\n",
    "| ``set``   | ``{1, 2, 3}``             | Unordered collection of unique values |\n",
    "\n",
    "As you can see, round, square, and curly brackets have distinct meanings when it comes to the type of collection produced.\n",
    "We'll take a quick tour of these data structures here.\n",
    "\n",
    "For example, rather than representing a vector `r` of length 3 using three floats `u`, `v` and `w`, we could represent \n",
    "it as a list of floats, `r = [u, v, w]`. Similarly, if we want to store the names of students in a laboratory group, rather than a string variable for each student, we could work with a list of names, e.g::\n",
    "\n"
   ]
  },
  {
   "cell_type": "code",
   "execution_count": null,
   "metadata": {},
   "outputs": [],
   "source": [
    "lab_group0 = [\"João\", \"Maria\", \"José\", \"Joana\"]\n",
    "lab_group1 = [\"Miguel\", \"Catarina\", \"Diogo\", \"Josefa\"]\n",
    "lab_group2 = [\"Leandro\", \"Joana\"]\n",
    "print(lab_group0)\n",
    "print(lab_group1)"
   ]
  },
  {
   "cell_type": "markdown",
   "metadata": {},
   "source": [
    "This is a much more powerful construction because we can perform operations on a list, such as checking its length (number of students in a lab group), sort the names in the list into alphabetical order, and add or remove names. We could even make a list-of-lists, e.g."
   ]
  },
  {
   "cell_type": "code",
   "execution_count": null,
   "metadata": {},
   "outputs": [],
   "source": [
    "lab_groups = [lab_group0, lab_group1, lab_group2]\n",
    "\n",
    "print(lab_groups)"
   ]
  },
  {
   "cell_type": "markdown",
   "metadata": {},
   "source": [
    "to collect all the lab groups together into a *nested* list.\n",
    "\n",
    "Data structures are particularly useful when passing data to functions. Say we want a function that prints the names of students in a given lab group. Rather than passing the name of each student (with different groups having differing numbers of members), we can pass just the list of lab group members to the function.\n",
    "Similarly, we could develop a function that computes the dot product between two vectors of arbitrary length, passing to the function just the two vectors rather than each component.\n",
    "\n",
    "We will look at three built-in Python data structures that are commonly used. They are:\n",
    "\n",
    "- `list` \n",
    "- `tuple`\n",
    "- `set`\n",
    "- `dict` (dictionary)"
   ]
  },
  {
   "cell_type": "markdown",
   "metadata": {},
   "source": [
    "## 2.1 Lists\n",
    "\n",
    "A `list` is a sequence of data. An 'array' in most other languages is a similar concept, but Python lists are more general than most arrays as they can hold a mixture of types. A list is constructed using square brackets:"
   ]
  },
  {
   "cell_type": "code",
   "execution_count": null,
   "metadata": {},
   "outputs": [],
   "source": [
    "lab_group2 = [\"Sara\", \"João\", \"Mara\", \"Leonardo\", \"Ana\"]\n",
    "print(\"Members of Group 2:\", lab_group2)\n",
    "print(\"Size of Group 2:\", len(lab_group2))\n",
    "\n",
    "print(\"Variable 'lab_group2' has a data type of\", type(lab_group2))"
   ]
  },
  {
   "cell_type": "markdown",
   "metadata": {},
   "source": [
    "The function '`len`' returns the length (number of items) of the list.\n",
    "\n",
    "An empty list is created by"
   ]
  },
  {
   "cell_type": "code",
   "execution_count": null,
   "metadata": {},
   "outputs": [],
   "source": [
    "empty_list = []"
   ]
  },
  {
   "cell_type": "markdown",
   "metadata": {},
   "source": [
    "A list of length **3** with repeated values can be created by"
   ]
  },
  {
   "cell_type": "code",
   "execution_count": null,
   "metadata": {},
   "outputs": [],
   "source": [
    "empty_list = [\"Zzz\"]*3\n",
    "print(empty_list)"
   ]
  },
  {
   "cell_type": "markdown",
   "metadata": {},
   "source": [
    "## 2.1.1 Iterating over lists\n",
    "\n",
    "Looping over each item in a list (or more generally a sequence) is called *iterating*. We iterate over the members of the lab group using the syntax:"
   ]
  },
  {
   "cell_type": "code",
   "execution_count": null,
   "metadata": {},
   "outputs": [],
   "source": [
    "another_list = [1, 2.0, 'Three', False]\n",
    "for i in another_list:\n",
    "    print(i, type(i))"
   ]
  },
  {
   "cell_type": "markdown",
   "metadata": {},
   "source": [
    "Say we want to iterate over the names of the lab group members, and get the position\n",
    "of each member in the list. We use `enumerate` for this: "
   ]
  },
  {
   "cell_type": "code",
   "execution_count": null,
   "metadata": {},
   "outputs": [],
   "source": [
    "for index, element in enumerate(lab_group0):\n",
    "    print(index, element)"
   ]
  },
  {
   "cell_type": "markdown",
   "metadata": {},
   "source": [
    "In the above, `n` is the position in the list and `member` is the $n$th entry in the list. Sometimes we need to know the position, in which case `enumerate` is helpful. However, when possible is it preferable to use a 'plain' iteration. Note that Python counts from zero - it uses zero-based indexing."
   ]
  },
  {
   "cell_type": "code",
   "execution_count": null,
   "metadata": {},
   "outputs": [],
   "source": [
    "for i in range(0, len(lab_group0)):\n",
    "    print(i, lab_group0[i])"
   ]
  },
  {
   "cell_type": "markdown",
   "metadata": {},
   "source": [
    "## 2.1.2 Manipulating lists\n",
    "\n",
    "There are many functions for manipulating lists. It might be useful to sort the list:"
   ]
  },
  {
   "cell_type": "code",
   "execution_count": null,
   "metadata": {},
   "outputs": [],
   "source": [
    "lab_group0 = [\"João\", \"Maria\", \"José\", \"Joana\"]\n",
    "lab_group0_ordered = sorted(lab_group0)\n",
    "\n",
    "print(lab_group0)\n",
    "print(lab_group0_ordered) # Result"
   ]
  },
  {
   "cell_type": "code",
   "execution_count": null,
   "metadata": {},
   "outputs": [],
   "source": [
    "lab_group0.sort()\n",
    "print(lab_group0)"
   ]
  },
  {
   "cell_type": "markdown",
   "metadata": {},
   "source": [
    "In the above, `sort` is known as a 'method' of a `list`. It performs an *in-place* sort, i.e. `lab_group0` is sorted, rather than creating a new list with sorted entries (for the latter we would use `sorted(lab_group0)`, which returns a new list)."
   ]
  },
  {
   "cell_type": "markdown",
   "metadata": {},
   "source": [
    "You can also join forces by using the `+` symbol to concatenate the elements from two lists:"
   ]
  },
  {
   "cell_type": "code",
   "execution_count": null,
   "metadata": {},
   "outputs": [],
   "source": [
    "lab_group = lab_group0 + lab_group1\n",
    "print(lab_group)"
   ]
  },
  {
   "cell_type": "markdown",
   "metadata": {},
   "source": [
    "## 2.1.3 Stacks\n",
    "\n",
    "A stack is a container of objects that are inserted and removed according to the Last-In-First-Out (LIFO) concept. Think of a scenario where at a dinner party where there is a stack of plates, plates are always added or removed from the top of the pile. In computer science, this concept is used for evaluating expressions and syntax parsing, scheduling algortihms/routines, etc.\n",
    "\n",
    "Stacks can be implemented using lists in Python. When you add elements to a stack, it is known as a *push* operation, whereas when you remove or delete an element it is called a *pop* operation. Use `append(element)` and `pop()` methods to push and pop elements from a list, respectively."
   ]
  },
  {
   "cell_type": "code",
   "execution_count": null,
   "metadata": {},
   "outputs": [],
   "source": [
    "# Remove the second student (indexing starts from 0, so 1 is the second element)\n",
    "lab_group0 = [\"Sara\", \"João\", \"Mara\", \"Leonardo\", \"Ana\"]\n",
    "lab_group0.pop()\n",
    "print(lab_group0)\n",
    "\n",
    "# Add new student \"Josephine\" at the end of the list\n",
    "lab_group0.append(\"Josephine\")\n",
    "print(lab_group0)"
   ]
  },
  {
   "cell_type": "markdown",
   "metadata": {},
   "source": [
    "## 2.1.4 Indexing & Selection\n",
    "\n",
    "Lists store data in order, so it is possible to 'index into' a list using an integer (this will be familiar to anyone who has used C), e.g.:"
   ]
  },
  {
   "cell_type": "code",
   "execution_count": null,
   "metadata": {},
   "outputs": [],
   "source": [
    "lab_group0 = ['João', 'Maria', 'José', 'Joana', 'Mariana', 'Carla']\n",
    "print(lab_group0)\n",
    "first_member = lab_group0[0]\n",
    "\n",
    "# You can also select last members or any other member by giving its index position\n",
    "last_member = lab_group0[len(lab_group0)-1] # The 'usual way'. Common in other languages, like Java\n",
    "last_member_another_way = lab_group0[-1] # The 'Python' way. Easier, cleaner! :)\n",
    "third_member = lab_group0[-2]\n",
    "print(first_member, third_member, last_member, last_member_another_way)"
   ]
  },
  {
   "cell_type": "markdown",
   "metadata": {},
   "source": [
    "or"
   ]
  },
  {
   "cell_type": "code",
   "execution_count": null,
   "metadata": {},
   "outputs": [],
   "source": [
    "# The old fashioned way (Java, C, etc.)\n",
    "\n",
    "for i in range(len(lab_group0)):\n",
    "    print(i, lab_group0[i])"
   ]
  },
  {
   "cell_type": "markdown",
   "metadata": {},
   "source": [
    "Indices start from zero, and run through to (length - 1). Indexing can be useful for numerical computations."
   ]
  },
  {
   "cell_type": "markdown",
   "metadata": {},
   "source": [
    "When possible, it is better to iterate over a list rather than use indexing, since there are data structures that support iterating but do not support indexing.\n",
    "\n",
    "If we have a list-of-lists,"
   ]
  },
  {
   "cell_type": "code",
   "execution_count": null,
   "metadata": {},
   "outputs": [],
   "source": [
    "lab_group0 = [\"João\", \"Maria\", \"José\", \"Joana\"]\n",
    "lab_group1 = [\"Miguel\", \"Catarina\", \"Diogo\", \"Josefa\", \"Telmo\"]\n",
    "lab_groups = [lab_group0, lab_group1]\n",
    "print(lab_groups)"
   ]
  },
  {
   "cell_type": "markdown",
   "metadata": {},
   "source": [
    "we can use the first index to access a list, and a second index to access the entry in that list:"
   ]
  },
  {
   "cell_type": "code",
   "execution_count": null,
   "metadata": {},
   "outputs": [],
   "source": [
    "#group = lab_groups[0]\n",
    "#print(group)\n",
    "\n",
    "name = lab_groups[1][2]\n",
    "print(name)\n",
    "\n",
    "# Reassignment of an element in a list by its index position (careful...)\n",
    "lab_groups[0] = \"Test element\"\n",
    "print(lab_groups)"
   ]
  },
  {
   "cell_type": "markdown",
   "metadata": {},
   "source": [
    "## 2.1.5 Heterogeneity (lists with mixed types)\n",
    "\n",
    "Python lists are heterogeneous data structures - this means they can store mixed types, e.g."
   ]
  },
  {
   "cell_type": "code",
   "execution_count": null,
   "metadata": {},
   "outputs": [],
   "source": [
    "mixed_types_list = [\"Gervásio\", 10 + 8j, 1.0, 7, ['I\\'m Python and I can do the **** i want'], (\"Dat\", \"Iz\", True)]\n",
    "for element in mixed_types_list:\n",
    "    print(element, type(element))"
   ]
  },
  {
   "cell_type": "markdown",
   "metadata": {},
   "source": [
    "Arrays in most languages are homogeneous - all types in the array must be the same.\n",
    "\n",
    "There are *many* ways in which lists can be manipulated. The best way to learn how to perform a specific operation is to use **a search engine**."
   ]
  },
  {
   "cell_type": "markdown",
   "metadata": {},
   "source": [
    "## 2.2 Tuples\n",
    "\n",
    "Tuples are closely related to lists. The main difference is that the length (number of entries) of a tuple cannot be changed once the tuple has been created. The values of entries can be changed, but the number of entries\n",
    "cannot be increased or decreased.\n",
    "\n",
    "For something that has fixed length, such as a vector of length three, a tuple is more appropriate than a list. It is 'safer' in this case since the length cannot be changed accidentally in a program. The fixed length also permits implementations to be optimised for speed.\n",
    "\n",
    "To create a tuple, use round brackets. Say at a college like Iscte, each room has a student capacity due to COVID-19 pandemic:"
   ]
  },
  {
   "cell_type": "code",
   "execution_count": null,
   "metadata": {},
   "outputs": [],
   "source": [
    "jj_laginha_room = (\"JJ Laginha Auditorium\", 50) # Due to COVID-19, the room capacity must be reduced\n",
    "print(\"Room capacity:\", jj_laginha_room)\n",
    "print(type(jj_laginha_room))"
   ]
  },
  {
   "cell_type": "markdown",
   "metadata": {},
   "source": [
    "Let's try to change its capacity"
   ]
  },
  {
   "cell_type": "code",
   "execution_count": null,
   "metadata": {},
   "outputs": [],
   "source": [
    "jj_laginha_room[1] = 100"
   ]
  },
  {
   "cell_type": "markdown",
   "metadata": {},
   "source": [
    "As you saw, you can't change tuple items because they immutable. It's better to convert to a list:"
   ]
  },
  {
   "cell_type": "code",
   "execution_count": null,
   "metadata": {},
   "outputs": [],
   "source": [
    "jj_laginha_room_as_list = list(jj_laginha_room)\n",
    "jj_laginha_room_as_list[1] = 100\n",
    "print(jj_laginha_room_as_list)\n",
    "print(jj_laginha_room)"
   ]
  },
  {
   "cell_type": "markdown",
   "metadata": {},
   "source": [
    "We can iterate over tuples in the same way as with lists,"
   ]
  },
  {
   "cell_type": "code",
   "execution_count": null,
   "metadata": {},
   "outputs": [],
   "source": [
    "# Iterate over tuple values\n",
    "for item in jj_laginha_room:\n",
    "    print(item)"
   ]
  },
  {
   "cell_type": "markdown",
   "metadata": {},
   "source": [
    "and we can index into a tuple:"
   ]
  },
  {
   "cell_type": "code",
   "execution_count": null,
   "metadata": {},
   "outputs": [],
   "source": [
    "# Index into tuple values\n",
    "print(jj_laginha_room[1])\n",
    "print(jj_laginha_room[0])"
   ]
  },
  {
   "cell_type": "markdown",
   "metadata": {},
   "source": [
    "In summary, prefer tuples over lists when the length will not change."
   ]
  },
  {
   "cell_type": "markdown",
   "metadata": {},
   "source": [
    "## 2.3 Sets\n",
    "\n",
    "Sets are a collection of distinct (unique) elements. These are useful to create lists that only hold unique values in the dataset. It is an unordered collection but a mutable one.\n",
    "\n",
    "To declare a set, you need to type a sequence of items separated by commas, inside curly braces. After that, assign it to a Python variable."
   ]
  },
  {
   "cell_type": "code",
   "execution_count": null,
   "metadata": {},
   "outputs": [],
   "source": [
    "set_example = {1,7,4}"
   ]
  },
  {
   "cell_type": "markdown",
   "metadata": {},
   "source": [
    "As you can see, we wrote it in the order 1, 7 and 4. Not ordered, and we will see what will happen in a moment\n",
    "\n",
    "A set may contain values of different types."
   ]
  },
  {
   "cell_type": "code",
   "execution_count": null,
   "metadata": {},
   "outputs": [],
   "source": [
    "set_example = {1, 7.0, 'tomato or tomAto?'}"
   ]
  },
  {
   "cell_type": "markdown",
   "metadata": {},
   "source": [
    "A set also cannot contain duplicate elements. Let’s try adding duplicate elements to another set. We will also see what will happen in a moment"
   ]
  },
  {
   "cell_type": "code",
   "execution_count": null,
   "metadata": {},
   "outputs": [],
   "source": [
    "set_example2 = {9,5,5,3}\n",
    "print(set_example2)"
   ]
  },
  {
   "cell_type": "markdown",
   "metadata": {},
   "source": [
    "A set is mutable, but may not contain mutable items like a list, set, or even a dictionary.\n",
    "\n"
   ]
  },
  {
   "cell_type": "code",
   "execution_count": null,
   "metadata": {},
   "outputs": [],
   "source": [
    "set_example3 = {[2,7,7],0}"
   ]
  },
  {
   "cell_type": "markdown",
   "metadata": {},
   "source": [
    "As we discussed, there is no such thing as a nested Python set.\n",
    "\n",
    "You can also create a set using the method `set()`"
   ]
  },
  {
   "cell_type": "code",
   "execution_count": null,
   "metadata": {},
   "outputs": [],
   "source": [
    "set_example4 = set()\n",
    "print(type(set_example4))"
   ]
  },
  {
   "cell_type": "markdown",
   "metadata": {},
   "source": [
    "This creates an empty set object. Remember that if you declare an empty set as the following code, it is an empty dictionary, not an empty set. We confirm this using the type() function."
   ]
  },
  {
   "cell_type": "code",
   "execution_count": null,
   "metadata": {},
   "outputs": [],
   "source": [
    "set_example5 = {}\n",
    "print(type(set_example5))"
   ]
  },
  {
   "cell_type": "markdown",
   "metadata": {},
   "source": [
    "The set() function may also take one argument, however. It should be an iterable, like a list."
   ]
  },
  {
   "cell_type": "code",
   "execution_count": null,
   "metadata": {},
   "outputs": [],
   "source": [
    "set_example6 = set([4,7,1])\n",
    "set_example6"
   ]
  },
  {
   "cell_type": "markdown",
   "metadata": {},
   "source": [
    "Since sets in Python do not support indexing, it is only possible to access the entire set at once. Let’s try accessing the sets defined before."
   ]
  },
  {
   "cell_type": "code",
   "execution_count": null,
   "metadata": {},
   "outputs": [],
   "source": [
    "print(set_example6[1])"
   ]
  },
  {
   "cell_type": "markdown",
   "metadata": {},
   "source": [
    "## 2.4 Dictionaries (maps)\n",
    "\n",
    "We used a list of tuples in the previous section to store room allocations. If we wanted to find which room a particular student has been allocated we would need to iterate through the list and check each name. For a very large list, this might not be very efficient.\n",
    "\n",
    "There is a better way to do this, using a 'dictionary' (or sometimes called a 'map'). We have used indexing (with integers) into lists and tuples for direct access to a specific entry. This works if we know the index to the entry of interest. But, for a room list we identify individuals by name rather than a contiguous set of integers. Using a dictionary, we can build a 'map' from names (the *keys*) to room numbers (the *values*). \n",
    "\n",
    "A Python dictionary (`dict`) is declared using curly braces:"
   ]
  },
  {
   "cell_type": "code",
   "execution_count": null,
   "metadata": {},
   "outputs": [],
   "source": [
    "room_capacities = {\"JJ Laginha\": 250, \"4th Auditorium\": 250, \"Main Auditorium\": 500, \"AE Bar\": 40, \"C401\": 28}\n",
    "print(room_capacities)\n",
    "print(type(room_capacities))"
   ]
  },
  {
   "cell_type": "markdown",
   "metadata": {},
   "source": [
    "Each entry is separated by a comma. For each entry we have a 'key', which is followed by a colon, and then the 'value'.\n",
    "\n",
    "Now if we want to know what is the capacity of AE Bar, we can query the dictionary by key:"
   ]
  },
  {
   "cell_type": "code",
   "execution_count": null,
   "metadata": {},
   "outputs": [],
   "source": [
    "AEBar_capacity = room_capacities['AE Bar']\n",
    "print(AEBar_capacity)"
   ]
  },
  {
   "cell_type": "markdown",
   "metadata": {},
   "source": [
    "If we try to use a key that does not exist in the dictionary, e.g.\n",
    "\n",
    "`C607_capacity = room_capacities[\"C607\"]`\n",
    "\n",
    "Python will give an error (raise an exception). If we're not sure that a key is present, we can check:"
   ]
  },
  {
   "cell_type": "code",
   "execution_count": null,
   "metadata": {},
   "outputs": [],
   "source": [
    "print(\"AE Bar\" in room_capacities)"
   ]
  },
  {
   "cell_type": "markdown",
   "metadata": {},
   "source": [
    "(We can also use '`in`' to check if an entry exists in a list or tuple).\n",
    "We can iterate over the keys in a dictionary:"
   ]
  },
  {
   "cell_type": "code",
   "execution_count": null,
   "metadata": {},
   "outputs": [],
   "source": [
    "for x in room_capacities.keys():\n",
    "    print(x)"
   ]
  },
  {
   "cell_type": "markdown",
   "metadata": {},
   "source": [
    "or iterate over both the keys and the values:"
   ]
  },
  {
   "cell_type": "code",
   "execution_count": null,
   "metadata": {},
   "outputs": [],
   "source": [
    "for room, capacity in room_capacities.items():\n",
    "    print(room, capacity)"
   ]
  },
  {
   "cell_type": "markdown",
   "metadata": {
    "collapsed": true
   },
   "source": [
    "# Choosing a data structure\n",
    "\n",
    "An important task when developing a computer program is selecting the *appropriate* data structure for a task.\n",
    "The more flexible the data structure, generally the less efficient it will be and it will use more memory compared to simpler data structures.\n",
    "\n",
    "- If efficiency it not critical, pick a data structure that provides the functionality you need, and offers \n",
    "  flexibility and ease of use. Safety should also be considered (this can be a good reason for choosing a \n",
    "  tuple over a list).\n",
    "- Use iterators rather than indexing when possible. This will allow switching from data structures that support \n",
    "  indexing to data structures that do not support indexing (such as a '`set`' data structure).\n",
    "\n",
    "For many numerical computations, efficiency is essential and picking the right data structure is critical\n",
    "for this."
   ]
  }
 ],
 "metadata": {
  "kernelspec": {
   "display_name": "Python 3 (ipykernel)",
   "language": "python",
   "name": "python3"
  },
  "language_info": {
   "codemirror_mode": {
    "name": "ipython",
    "version": 3
   },
   "file_extension": ".py",
   "mimetype": "text/x-python",
   "name": "python",
   "nbconvert_exporter": "python",
   "pygments_lexer": "ipython3",
   "version": "3.9.12"
  }
 },
 "nbformat": 4,
 "nbformat_minor": 1
}
